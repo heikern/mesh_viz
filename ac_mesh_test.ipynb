{
 "cells": [
  {
   "cell_type": "code",
   "execution_count": 1,
   "metadata": {},
   "outputs": [],
   "source": [
    "import pypsa\n",
    "import networkx as nx\n",
    "import matplotlib.pyplot as plt"
   ]
  },
  {
   "cell_type": "code",
   "execution_count": 2,
   "metadata": {},
   "outputs": [],
   "source": [
    "def plot_network(network):\n",
    "    # Convert PyPSA network to a NetworkX graph\n",
    "    G = nx.Graph()\n",
    "\n",
    "    # Add nodes with attributes\n",
    "    for bus in network.buses.index:\n",
    "        load = network.loads[network.loads[\"bus\"] == bus][\"p_set\"].sum()\n",
    "        generators = network.generators[network.generators[\"bus\"] == bus][\"p_nom\"].sum()\n",
    "        G.add_node(bus, pos=(network.buses.loc[bus, \"x\"], network.buses.loc[bus, \"y\"]), load=load, generators=generators)\n",
    "\n",
    "    # Add edges\n",
    "    for line in network.lines.index:\n",
    "        G.add_edge(network.lines.loc[line, \"bus0\"],\n",
    "                network.lines.loc[line, \"bus1\"],\n",
    "                weight=network.lines.loc[line, \"length\"])\n",
    "\n",
    "    # Extract positions for nodes\n",
    "    positions = nx.get_node_attributes(G, \"pos\")\n",
    "    loads = nx.get_node_attributes(G, \"load\")\n",
    "    generators = nx.get_node_attributes(G, \"generators\")\n",
    "\n",
    "    # Draw the graph\n",
    "    plt.figure(figsize=(10, 7))\n",
    "\n",
    "    # Draw edges\n",
    "    nx.draw(\n",
    "        G,\n",
    "        pos=positions,\n",
    "        with_labels=True,\n",
    "        node_color=\"lightblue\",\n",
    "        edge_color=\"gray\",\n",
    "        node_size=700,\n",
    "        font_size=10,\n",
    "        font_color=\"white\",\n",
    "    )\n",
    "\n",
    "    # Draw loads as red balls and dotted lines\n",
    "    for node, (x, y) in positions.items():\n",
    "        load_value = loads[node]\n",
    "        if load_value > 0:  # Only draw if there's a load\n",
    "            # Offset position for the load\n",
    "            load_x, load_y = x - 0.05, y - 0.2\n",
    "\n",
    "            # Draw the load as a red ball\n",
    "            plt.scatter(\n",
    "                load_x, load_y,\n",
    "                s=50,  # Size of the ball\n",
    "                color=\"red\"\n",
    "            )\n",
    "\n",
    "            # Draw a dotted line connecting the bus to the load\n",
    "            plt.plot(\n",
    "                [x, load_x], [y, load_y],\n",
    "                linestyle=\"dotted\",\n",
    "                color=\"black\",\n",
    "                linewidth=1\n",
    "            )\n",
    "\n",
    "    # Draw generators as green triangles and dotted lines\n",
    "    for node, (x, y) in positions.items():\n",
    "        generator_value = generators[node]\n",
    "        if generator_value > 0:  # Only draw if there's a generator\n",
    "            # Offset position for the generator\n",
    "            gen_x, gen_y = x + 0.0, y + 0.3\n",
    "\n",
    "            # Draw the generator as a green triangle\n",
    "            plt.scatter(\n",
    "                gen_x, gen_y,\n",
    "                s=300,  # Size of the triangle\n",
    "                color=\"green\",\n",
    "                marker=\"^\"  # Triangle marker\n",
    "            )\n",
    "\n",
    "            # Draw a dotted line connecting the bus to the generator\n",
    "            plt.plot(\n",
    "                [x, gen_x], [y, gen_y],\n",
    "                linestyle=\"dotted\",\n",
    "                color=\"black\",\n",
    "                linewidth=1\n",
    "            )\n",
    "\n",
    "    # Add legend for loads and generators\n",
    "    handles = [\n",
    "        plt.Line2D([0], [0], marker=\"o\", color=\"red\", label=\"Load\", markersize=6, linestyle=\"None\"),\n",
    "        plt.Line2D([0], [0], marker=\"^\", color=\"green\", label=\"Generator\", markersize=8, linestyle=\"None\")\n",
    "    ]\n",
    "    plt.legend(handles=handles, loc=\"upper right\")\n",
    "\n",
    "    plt.title(\"PyPSA Network with Loads and Generators\")\n",
    "    plt.show()"
   ]
  },
  {
   "cell_type": "code",
   "execution_count": 3,
   "metadata": {},
   "outputs": [
    {
     "name": "stderr",
     "output_type": "stream",
     "text": [
      "WARNING:pypsa.consistency:The following generators have carriers which are not defined:\n",
      "Index(['Generator 1'], dtype='object', name='Generator')\n",
      "WARNING:pypsa.consistency:The following buses have carriers which are not defined:\n",
      "Index(['Bus 1'], dtype='object', name='Bus')\n",
      "WARNING:pypsa.consistency:The following generators have carriers which are not defined:\n",
      "Index(['Generator 1'], dtype='object', name='Generator')\n",
      "WARNING:pypsa.consistency:The following buses have carriers which are not defined:\n",
      "Index(['Bus 1'], dtype='object', name='Bus')\n",
      "/opt/homebrew/Caskroom/miniforge/base/envs/mesh_viz/lib/python3.13/site-packages/linopy/common.py:154: UserWarning: coords for dimension(s) ['Generator'] is not aligned with the pandas object. Previously, the indexes of the pandas were ignored and overwritten in these cases. Now, the pandas object's coordinates are taken considered for alignment.\n",
      "  warn(\n",
      "INFO:linopy.model: Solve problem using Highs solver\n",
      "INFO:linopy.io: Writing time: 0.01s\n",
      "INFO:linopy.constants: Optimization successful: \n",
      "Status: ok\n",
      "Termination condition: optimal\n",
      "Solution: 1 primals, 3 duals\n",
      "Objective: 3.00e+03\n",
      "Solver model: available\n",
      "Solver message: optimal\n",
      "\n",
      "INFO:pypsa.optimization.optimize:The shadow-prices of the constraints Generator-fix-p-lower, Generator-fix-p-upper were not assigned to the network.\n"
     ]
    },
    {
     "name": "stdout",
     "output_type": "stream",
     "text": [
      "Running HiGHS 1.8.1 (git hash: 4a7f24a): Copyright (c) 2024 HiGHS under MIT licence terms\n",
      "Coefficient ranges:\n",
      "  Matrix [1e+00, 1e+00]\n",
      "  Cost   [6e+01, 6e+01]\n",
      "  Bound  [0e+00, 0e+00]\n",
      "  RHS    [5e+01, 1e+02]\n",
      "Presolving model\n",
      "0 rows, 0 cols, 0 nonzeros  0s\n",
      "0 rows, 0 cols, 0 nonzeros  0s\n",
      "Presolve : Reductions: rows 0(-3); columns 0(-1); elements 0(-3) - Reduced to empty\n",
      "Solving the original LP from the solution after postsolve\n",
      "Model name          : linopy-problem-6doqjbj0\n",
      "Model status        : Optimal\n",
      "Objective value     :  3.0000000000e+03\n",
      "Relative P-D gap    :  0.0000000000e+00\n",
      "HiGHS run time      :          0.00\n",
      "Writing the solution to /private/var/folders/lp/xy_zbssn7fsggx2qw998gl7c0000gn/T/linopy-solve-pnn0m9zx.sol\n"
     ]
    },
    {
     "data": {
      "text/plain": [
       "('ok', 'optimal')"
      ]
     },
     "execution_count": 3,
     "metadata": {},
     "output_type": "execute_result"
    }
   ],
   "source": [
    "# Example of simplified setup\n",
    "network = pypsa.Network()\n",
    "network.set_snapshots([\"2024-01-01 00:00\"])\n",
    "\n",
    "# Add one bus and one generator\n",
    "network.add(\"Bus\", \"Bus 1\", v_nom=110, x=0, y=0, carrier=\"electricity\")\n",
    "network.add(\"Generator\", \"Generator 1\", bus=\"Bus 1\", p_nom=100, marginal_cost=60, carrier=\"thermal\")\n",
    "network.add(\"Load\", \"Load 1\", bus=\"Bus 1\", p_set=50)\n",
    "\n",
    "# Run optimization\n",
    "network.optimize()"
   ]
  },
  {
   "cell_type": "code",
   "execution_count": 14,
   "metadata": {},
   "outputs": [],
   "source": [
    "# Create a new PyPSA network\n",
    "network = pypsa.Network()\n",
    "# Set the snapshot time (can be expanded for multiple time steps)\n",
    "network.set_snapshots([\"2024-01-01 00:00\"])\n",
    "\n",
    "# Add carriers\n",
    "network.add(\"Carrier\", \"electricity\")\n",
    "network.add(\"Carrier\", \"thermal\")\n",
    "\n",
    "# Add buses (nodes)\n",
    "for i in range(5):\n",
    "    network.add(\"Bus\", f\"Bus {i+1}\",\n",
    "                v_nom=110,  # Nominal voltage in kV\n",
    "                x=0, y=i,   # Dummy coordinates for visualization\n",
    "                carrier=\"electricity\")  \n",
    "    \n",
    "# Add lines to form a mesh network\n",
    "lines = [\n",
    "    (\"Bus 1\", \"Bus 2\"),\n",
    "    (\"Bus 1\", \"Bus 3\"),\n",
    "    (\"Bus 2\", \"Bus 4\"),\n",
    "    (\"Bus 3\", \"Bus 5\"),\n",
    "    (\"Bus 4\", \"Bus 5\"),\n",
    "    (\"Bus 1\", \"Bus 4\"),\n",
    "    (\"Bus 2\", \"Bus 5\"),\n",
    "]\n",
    "\n",
    "for i, (bus0, bus1) in enumerate(lines):\n",
    "    network.add(\"Line\", f\"Line {i+1}\",\n",
    "                bus0=bus0,\n",
    "                bus1=bus1,\n",
    "                length=100,  # Length in km\n",
    "                r=0.1,       # Resistance per km\n",
    "                x=0.4,       # Reactance per km\n",
    "                c=0.01,      # Capacitance per km\n",
    "                carrier=\"electricity\")\n",
    "    \n",
    "# Add generators at two buses\n",
    "generators = [(\"Bus 1\", 200), (\"Bus 3\", 200)]  # (bus, p_nom)\n",
    "for i, (bus, p_nom) in enumerate(generators):\n",
    "    network.add(\"Generator\", f\"Generator {i+1}\",\n",
    "                bus=bus,\n",
    "                p_nom=p_nom,    # Nominal power in MW\n",
    "                marginal_cost=50,  # Cost per MWh\n",
    "                carrier=\"thermal\")\n",
    "    \n",
    "\n",
    "# Add loads at all buses\n",
    "for i in range(5):\n",
    "    network.add(\"Load\", f\"Load {i+1}\",\n",
    "                bus=f\"Bus {i+1}\",\n",
    "                p_set=10)  # Set load in MW\n",
    "    \n",
    "# Set dummy coordinates for the buses (latitude and longitude)\n",
    "coordinates = {\n",
    "    \"Bus 1\": (0, 0),\n",
    "    \"Bus 2\": (1, 1),\n",
    "    \"Bus 3\": (2, 0),\n",
    "    \"Bus 4\": (1, -1),\n",
    "    \"Bus 5\": (2, -2),\n",
    "}\n",
    "for bus, (x, y) in coordinates.items():\n",
    "    network.buses.loc[bus, \"x\"] = x\n",
    "    network.buses.loc[bus, \"y\"] = y"
   ]
  },
  {
   "cell_type": "code",
   "execution_count": null,
   "metadata": {},
   "outputs": [],
   "source": []
  },
  {
   "cell_type": "code",
   "execution_count": 15,
   "metadata": {},
   "outputs": [
    {
     "name": "stderr",
     "output_type": "stream",
     "text": [
      "WARNING:pypsa.components:Warning, sub network 0 is not electric but contains multiple buses\n",
      "and branches. Passive flows are not allowed for non-electric networks!\n",
      "/opt/homebrew/Caskroom/miniforge/base/envs/mesh_viz/lib/python3.13/site-packages/linopy/common.py:154: UserWarning: coords for dimension(s) ['Generator'] is not aligned with the pandas object. Previously, the indexes of the pandas were ignored and overwritten in these cases. Now, the pandas object's coordinates are taken considered for alignment.\n",
      "  warn(\n",
      "INFO:linopy.model: Solve problem using Highs solver\n",
      "INFO:linopy.io: Writing time: 0.01s\n",
      "WARNING:linopy.constants:Optimization failed: \n",
      "Status: warning\n",
      "Termination condition: infeasible\n",
      "Solution: 0 primals, 0 duals\n",
      "Objective: nan\n",
      "Solver model: available\n",
      "Solver message: infeasible\n",
      "\n"
     ]
    },
    {
     "name": "stdout",
     "output_type": "stream",
     "text": [
      "Running HiGHS 1.8.1 (git hash: 4a7f24a): Copyright (c) 2024 HiGHS under MIT licence terms\n",
      "Coefficient ranges:\n",
      "  Matrix [8e-01, 1e+00]\n",
      "  Cost   [5e+01, 5e+01]\n",
      "  Bound  [0e+00, 0e+00]\n",
      "  RHS    [1e+01, 2e+02]\n",
      "Presolving model\n",
      "Problem status detected on presolve: Infeasible\n",
      "Model name          : linopy-problem-1vlcvtjy\n",
      "Model status        : Infeasible\n",
      "Objective value     :  0.0000000000e+00\n",
      "HiGHS run time      :          0.00\n",
      "Writing the solution to /private/var/folders/lp/xy_zbssn7fsggx2qw998gl7c0000gn/T/linopy-solve-j5w4ywvm.sol\n"
     ]
    },
    {
     "data": {
      "text/plain": [
       "('warning', 'infeasible')"
      ]
     },
     "execution_count": 15,
     "metadata": {},
     "output_type": "execute_result"
    }
   ],
   "source": [
    "network.optimize()"
   ]
  },
  {
   "cell_type": "code",
   "execution_count": 4,
   "metadata": {},
   "outputs": [
    {
     "data": {
      "image/png": "[encoded data removed]",
      "text/plain": [
       "<Figure size 1000x700 with 1 Axes>"
      ]
     },
     "metadata": {},
     "output_type": "display_data"
    }
   ],
   "source": [
    "plot_network(network)"
   ]
  },
  {
   "cell_type": "code",
   "execution_count": 11,
   "metadata": {},
   "outputs": [
    {
     "name": "stdout",
     "output_type": "stream",
     "text": [
      "PyPSA Network\n",
      "Components:\n",
      " - Bus: 5\n",
      " - Generator: 2\n",
      " - Line: 7\n",
      " - Load: 5\n",
      "Snapshots: 1\n"
     ]
    }
   ],
   "source": [
    "# Output the network to verify\n",
    "print(network)"
   ]
  },
  {
   "cell_type": "code",
   "execution_count": 5,
   "metadata": {},
   "outputs": [
    {
     "ename": "AttributeError",
     "evalue": "'Network' object has no attribute 'model'",
     "output_type": "error",
     "traceback": [
      "\u001b[0;31m---------------------------------------------------------------------------\u001b[0m",
      "\u001b[0;31mAttributeError\u001b[0m                            Traceback (most recent call last)",
      "Cell \u001b[0;32mIn[5], line 1\u001b[0m\n\u001b[0;32m----> 1\u001b[0m \u001b[43mnetwork\u001b[49m\u001b[38;5;241;43m.\u001b[39;49m\u001b[43mmodel\u001b[49m\n",
      "\u001b[0;31mAttributeError\u001b[0m: 'Network' object has no attribute 'model'"
     ]
    }
   ],
   "source": [
    "network.model"
   ]
  },
  {
   "cell_type": "code",
   "execution_count": 12,
   "metadata": {},
   "outputs": [
    {
     "name": "stderr",
     "output_type": "stream",
     "text": [
      "INFO:pypsa.pf:Performing linear load-flow on AC sub-network <pypsa.components.SubNetwork object at 0x12e83b0e0> for snapshot(s) Index(['2024-01-01 00:00'], dtype='object', name='snapshot')\n"
     ]
    }
   ],
   "source": [
    "# Solve the network's optimal power flow (OPF)\n",
    "network.lpf(network.snapshots)"
   ]
  },
  {
   "cell_type": "code",
   "execution_count": 13,
   "metadata": {},
   "outputs": [
    {
     "name": "stdout",
     "output_type": "stream",
     "text": [
      "Generator         Generator 1  Generator 2\n",
      "snapshot                                  \n",
      "2024-01-01 00:00        250.0          0.0\n",
      "Load              Load 1  Load 2  Load 3  Load 4  Load 5\n",
      "snapshot                                                \n",
      "2024-01-01 00:00    50.0    50.0    50.0    50.0    50.0\n"
     ]
    }
   ],
   "source": [
    "# Print results for generators and loads\n",
    "print(network.generators_t.p)  # Generator outputs\n",
    "print(network.loads_t.p)       # Load power consumptions"
   ]
  },
  {
   "cell_type": "code",
   "execution_count": null,
   "metadata": {},
   "outputs": [],
   "source": []
  }
 ],
 "metadata": {
  "kernelspec": {
   "display_name": "mesh_viz",
   "language": "python",
   "name": "python3"
  },
  "language_info": {
   "codemirror_mode": {
    "name": "ipython",
    "version": 3
   },
   "file_extension": ".py",
   "mimetype": "text/x-python",
   "name": "python",
   "nbconvert_exporter": "python",
   "pygments_lexer": "ipython3",
   "version": "3.13.0"
  }
 },
 "nbformat": 4,
 "nbformat_minor": 2
}
