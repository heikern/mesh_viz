{
 "cells": [
  {
   "cell_type": "code",
   "execution_count": 9,
   "metadata": {},
   "outputs": [],
   "source": [
    "import pypsa\n",
    "import networkx as nx\n",
    "import matplotlib.pyplot as plt"
   ]
  },
  {
   "cell_type": "code",
   "execution_count": 10,
   "metadata": {},
   "outputs": [],
   "source": [
    "def plot_network(network):\n",
    "    # Convert PyPSA network to a NetworkX graph\n",
    "    G = nx.Graph()\n",
    "\n",
    "    # Add nodes with attributes\n",
    "    for bus in network.buses.index:\n",
    "        load = network.loads[network.loads[\"bus\"] == bus][\"p_set\"].sum()\n",
    "        generators = network.generators[network.generators[\"bus\"] == bus][\"p_nom\"].sum()\n",
    "        G.add_node(bus, pos=(network.buses.loc[bus, \"x\"], network.buses.loc[bus, \"y\"]), load=load, generators=generators)\n",
    "\n",
    "    # Add edges\n",
    "    for line in network.lines.index:\n",
    "        G.add_edge(network.lines.loc[line, \"bus0\"],\n",
    "                network.lines.loc[line, \"bus1\"],\n",
    "                weight=network.lines.loc[line, \"length\"])\n",
    "\n",
    "    # Extract positions for nodes\n",
    "    positions = nx.get_node_attributes(G, \"pos\")\n",
    "    loads = nx.get_node_attributes(G, \"load\")\n",
    "    generators = nx.get_node_attributes(G, \"generators\")\n",
    "\n",
    "    # Draw the graph\n",
    "    plt.figure(figsize=(10, 7))\n",
    "\n",
    "    # Draw edges\n",
    "    nx.draw(\n",
    "        G,\n",
    "        pos=positions,\n",
    "        with_labels=True,\n",
    "        node_color=\"lightblue\",\n",
    "        edge_color=\"gray\",\n",
    "        node_size=700,\n",
    "        font_size=10,\n",
    "        font_color=\"white\",\n",
    "    )\n",
    "\n",
    "    # Draw loads as red balls and dotted lines\n",
    "    for node, (x, y) in positions.items():\n",
    "        load_value = loads[node]\n",
    "        if load_value > 0:  # Only draw if there's a load\n",
    "            # Offset position for the load\n",
    "            load_x, load_y = x - 0.05, y - 0.2\n",
    "\n",
    "            # Draw the load as a red ball\n",
    "            plt.scatter(\n",
    "                load_x, load_y,\n",
    "                s=50,  # Size of the ball\n",
    "                color=\"red\"\n",
    "            )\n",
    "\n",
    "            # Draw a dotted line connecting the bus to the load\n",
    "            plt.plot(\n",
    "                [x, load_x], [y, load_y],\n",
    "                linestyle=\"dotted\",\n",
    "                color=\"black\",\n",
    "                linewidth=1\n",
    "            )\n",
    "\n",
    "    # Draw generators as green triangles and dotted lines\n",
    "    for node, (x, y) in positions.items():\n",
    "        generator_value = generators[node]\n",
    "        if generator_value > 0:  # Only draw if there's a generator\n",
    "            # Offset position for the generator\n",
    "            gen_x, gen_y = x + 0.0, y + 0.3\n",
    "\n",
    "            # Draw the generator as a green triangle\n",
    "            plt.scatter(\n",
    "                gen_x, gen_y,\n",
    "                s=300,  # Size of the triangle\n",
    "                color=\"green\",\n",
    "                marker=\"^\"  # Triangle marker\n",
    "            )\n",
    "\n",
    "            # Draw a dotted line connecting the bus to the generator\n",
    "            plt.plot(\n",
    "                [x, gen_x], [y, gen_y],\n",
    "                linestyle=\"dotted\",\n",
    "                color=\"black\",\n",
    "                linewidth=1\n",
    "            )\n",
    "\n",
    "    # Add legend for loads and generators\n",
    "    handles = [\n",
    "        plt.Line2D([0], [0], marker=\"o\", color=\"red\", label=\"Load\", markersize=6, linestyle=\"None\"),\n",
    "        plt.Line2D([0], [0], marker=\"^\", color=\"green\", label=\"Generator\", markersize=8, linestyle=\"None\")\n",
    "    ]\n",
    "    plt.legend(handles=handles, loc=\"upper right\")\n",
    "\n",
    "    plt.title(\"PyPSA Network with Loads and Generators\")\n",
    "    plt.show()"
   ]
  },
  {
   "cell_type": "code",
   "execution_count": 25,
   "metadata": {},
   "outputs": [
    {
     "name": "stderr",
     "output_type": "stream",
     "text": [
      "WARNING:pypsa.consistency:The following buses have carriers which are not defined:\n",
      "Index(['bus1', 'bus2', 'bus3'], dtype='object', name='Bus')\n",
      "WARNING:pypsa.consistency:The following lines have carriers which are not defined:\n",
      "Index(['line1', 'line2', 'line3'], dtype='object', name='Line')\n",
      "WARNING:pypsa.consistency:The following buses have carriers which are not defined:\n",
      "Index(['bus1', 'bus2', 'bus3'], dtype='object', name='Bus')\n",
      "WARNING:pypsa.consistency:The following lines have carriers which are not defined:\n",
      "Index(['line1', 'line2', 'line3'], dtype='object', name='Line')\n",
      "/home/heikern/miniconda3/envs/mesh_viz/lib/python3.12/site-packages/linopy/common.py:154: UserWarning: coords for dimension(s) ['Generator'] is not aligned with the pandas object. Previously, the indexes of the pandas were ignored and overwritten in these cases. Now, the pandas object's coordinates are taken considered for alignment.\n",
      "  warn(\n",
      "INFO:linopy.model: Solve problem using Highs solver\n",
      "INFO:linopy.io: Writing time: 0.01s\n",
      "INFO:linopy.constants: Optimization successful: \n",
      "Status: ok\n",
      "Termination condition: optimal\n",
      "Solution: 4 primals, 12 duals\n",
      "Objective: 8.00e+02\n",
      "Solver model: available\n",
      "Solver message: optimal\n",
      "\n",
      "INFO:pypsa.optimization.optimize:The shadow-prices of the constraints Generator-fix-p-lower, Generator-fix-p-upper, Line-fix-s-lower, Line-fix-s-upper, Kirchhoff-Voltage-Law were not assigned to the network.\n"
     ]
    },
    {
     "name": "stdout",
     "output_type": "stream",
     "text": [
      "Running HiGHS 1.8.1 (git hash: 4a7f24a): Copyright (c) 2024 HiGHS under MIT licence terms\n",
      "Coefficient ranges:\n",
      "  Matrix [2e-01, 1e+00]\n",
      "  Cost   [2e+01, 2e+01]\n",
      "  Bound  [0e+00, 0e+00]\n",
      "  RHS    [1e+01, 1e+02]\n",
      "Presolving model\n",
      "0 rows, 0 cols, 0 nonzeros  0s\n",
      "0 rows, 0 cols, 0 nonzeros  0s\n",
      "Presolve : Reductions: rows 0(-12); columns 0(-4); elements 0(-18) - Reduced to empty\n",
      "Solving the original LP from the solution after postsolve\n",
      "Model name          : linopy-problem-dck5rd34\n",
      "Model status        : Optimal\n",
      "Objective value     :  8.0000000000e+02\n",
      "Relative P-D gap    :  0.0000000000e+00\n",
      "HiGHS run time      :          0.00\n",
      "Writing the solution to /tmp/linopy-solve-jk4kc20y.sol\n",
      "Bus voltages:\n",
      "Bus           bus1      bus2      bus3\n",
      "snapshot                              \n",
      "now       0.000019 -0.000006 -0.000013\n",
      "\n",
      "Line flows:\n",
      "Line          line1     line2      line3\n",
      "snapshot                                \n",
      "now       13.333333  3.333333 -16.666667\n"
     ]
    }
   ],
   "source": [
    "# Create a new network\n",
    "network = pypsa.Network()\n",
    "\n",
    "# Add buses (nodes)\n",
    "# Add buses (nodes)\n",
    "network.add(\"Bus\", \"bus1\", v_nom=230, x=0, y=0)  # Nominal voltage 230 kV, Location (0, 0)\n",
    "network.add(\"Bus\", \"bus2\", v_nom=230, x=1, y=0.5)  # Location (1, 1)\n",
    "network.add(\"Bus\", \"bus3\", v_nom=230, x=-1, y=1)  # Location (-1, 1)\n",
    "\n",
    "# Add AC lines connecting the buses\n",
    "network.add(\n",
    "    \"Line\",\n",
    "    \"line1\",\n",
    "    bus0=\"bus1\",\n",
    "    bus1=\"bus2\",\n",
    "    x=0.1,  # Reactance in p.u.\n",
    "    r=0.01, # Resistance in p.u.\n",
    "    s_nom=100,  # Nominal power capacity in MVA\n",
    ")\n",
    "\n",
    "network.add(\n",
    "    \"Line\",\n",
    "    \"line2\",\n",
    "    bus0=\"bus2\",\n",
    "    bus1=\"bus3\",\n",
    "    x=0.1,\n",
    "    r=0.01,\n",
    "    s_nom=100,\n",
    ")\n",
    "\n",
    "network.add(\n",
    "    \"Line\",\n",
    "    \"line3\",\n",
    "    bus0=\"bus3\",\n",
    "    bus1=\"bus1\",\n",
    "    x=0.1,\n",
    "    r=0.01,\n",
    "    s_nom=100,\n",
    ")\n",
    "\n",
    "# Add generators at each bus\n",
    "network.add(\n",
    "    \"Generator\",\n",
    "    \"gen1\",\n",
    "    bus=\"bus1\",\n",
    "    p_nom=50,  # Nominal power in MW\n",
    "    marginal_cost=20,  # Cost in $/MWh\n",
    ")\n",
    "\n",
    "# network.add(\n",
    "#     \"Generator\",\n",
    "#     \"gen2\",\n",
    "#     bus=\"bus2\",\n",
    "#     p_nom=50,\n",
    "#     marginal_cost=25,\n",
    "# )\n",
    "\n",
    "# network.add(\n",
    "#     \"Generator\",\n",
    "#     \"gen3\",\n",
    "#     bus=\"bus3\",\n",
    "#     p_nom=50,\n",
    "#     marginal_cost=30,\n",
    "# )\n",
    "\n",
    "# Add loads at each bus\n",
    "network.add(\n",
    "    \"Load\",\n",
    "    \"load1\",\n",
    "    bus=\"bus1\",\n",
    "    p_set=10,  # Power demand in MW\n",
    ")\n",
    "\n",
    "network.add(\n",
    "    \"Load\",\n",
    "    \"load2\",\n",
    "    bus=\"bus2\",\n",
    "    p_set=10,\n",
    ")\n",
    "\n",
    "network.add(\n",
    "    \"Load\",\n",
    "    \"load3\",\n",
    "    bus=\"bus3\",\n",
    "    p_set=20,\n",
    ")\n",
    "\n",
    "# Optimize the network\n",
    "network.optimize()\n",
    "\n",
    "# Print results\n",
    "print(\"Bus voltages:\")\n",
    "print(network.buses_t.v_ang)\n",
    "print()\n",
    "print(\"Line flows:\")\n",
    "print(network.lines_t.p0)\n"
   ]
  },
  {
   "cell_type": "code",
   "execution_count": null,
   "metadata": {},
   "outputs": [],
   "source": [
    "# Access the optimization problem\n",
    "lp_model = network.lp\n",
    "\n",
    "# Print all constraints\n",
    "print(\"Constraints in the optimization problem:\")\n",
    "for constraint in lp_model.constraints:\n",
    "    print(f\"{constraint.name}: {constraint.expression}\")"
   ]
  },
  {
   "cell_type": "code",
   "execution_count": 26,
   "metadata": {},
   "outputs": [
    {
     "data": {
      "image/png": "[encoded data removed]",
      "text/plain": [
       "<Figure size 1000x700 with 1 Axes>"
      ]
     },
     "metadata": {},
     "output_type": "display_data"
    }
   ],
   "source": [
    "plot_network(network)"
   ]
  },
  {
   "cell_type": "code",
   "execution_count": 11,
   "metadata": {},
   "outputs": [
    {
     "name": "stdout",
     "output_type": "stream",
     "text": [
      "PyPSA Network\n",
      "Components:\n",
      " - Bus: 5\n",
      " - Generator: 2\n",
      " - Line: 7\n",
      " - Load: 5\n",
      "Snapshots: 1\n"
     ]
    }
   ],
   "source": [
    "# Output the network to verify\n",
    "print(network)"
   ]
  },
  {
   "cell_type": "code",
   "execution_count": 5,
   "metadata": {},
   "outputs": [
    {
     "ename": "AttributeError",
     "evalue": "'Network' object has no attribute 'model'",
     "output_type": "error",
     "traceback": [
      "\u001b[0;31m---------------------------------------------------------------------------\u001b[0m",
      "\u001b[0;31mAttributeError\u001b[0m                            Traceback (most recent call last)",
      "Cell \u001b[0;32mIn[5], line 1\u001b[0m\n\u001b[0;32m----> 1\u001b[0m \u001b[43mnetwork\u001b[49m\u001b[38;5;241;43m.\u001b[39;49m\u001b[43mmodel\u001b[49m\n",
      "\u001b[0;31mAttributeError\u001b[0m: 'Network' object has no attribute 'model'"
     ]
    }
   ],
   "source": [
    "network.model"
   ]
  },
  {
   "cell_type": "code",
   "execution_count": 12,
   "metadata": {},
   "outputs": [
    {
     "name": "stderr",
     "output_type": "stream",
     "text": [
      "INFO:pypsa.pf:Performing linear load-flow on AC sub-network <pypsa.components.SubNetwork object at 0x12e83b0e0> for snapshot(s) Index(['2024-01-01 00:00'], dtype='object', name='snapshot')\n"
     ]
    }
   ],
   "source": [
    "# Solve the network's optimal power flow (OPF)\n",
    "network.lpf(network.snapshots)"
   ]
  },
  {
   "cell_type": "code",
   "execution_count": 13,
   "metadata": {},
   "outputs": [
    {
     "name": "stdout",
     "output_type": "stream",
     "text": [
      "Generator         Generator 1  Generator 2\n",
      "snapshot                                  \n",
      "2024-01-01 00:00        250.0          0.0\n",
      "Load              Load 1  Load 2  Load 3  Load 4  Load 5\n",
      "snapshot                                                \n",
      "2024-01-01 00:00    50.0    50.0    50.0    50.0    50.0\n"
     ]
    }
   ],
   "source": [
    "# Print results for generators and loads\n",
    "print(network.generators_t.p)  # Generator outputs\n",
    "print(network.loads_t.p)       # Load power consumptions"
   ]
  },
  {
   "cell_type": "code",
   "execution_count": null,
   "metadata": {},
   "outputs": [],
   "source": []
  }
 ],
 "metadata": {
  "kernelspec": {
   "display_name": "mesh_viz",
   "language": "python",
   "name": "python3"
  },
  "language_info": {
   "codemirror_mode": {
    "name": "ipython",
    "version": 3
   },
   "file_extension": ".py",
   "mimetype": "text/x-python",
   "name": "python",
   "nbconvert_exporter": "python",
   "pygments_lexer": "ipython3",
   "version": "3.12.7"
  }
 },
 "nbformat": 4,
 "nbformat_minor": 2
}
